{
 "cells": [
  {
   "cell_type": "code",
   "execution_count": 10,
   "id": "84da91f5",
   "metadata": {},
   "outputs": [],
   "source": [
    "#Leitura das bibliotecas\n",
    "import numpy as np\n",
    "import matplotlib.pylab as plt\n",
    "\n",
    "b = 10\n",
    "alfa = 1.0\n",
    "beta = 2.4\n",
    "N0 = np.zeros(20)\n",
    "N1 = np.zeros(20)\n",
    "for var in range(20):\n",
    "    x = -var/r\n",
    "    N1[var] = (var/b)**(1/(beta-alfa)) "
   ]
  },
  {
   "cell_type": "code",
   "execution_count": 11,
   "id": "ae535623",
   "metadata": {},
   "outputs": [
    {
     "data": {
      "text/plain": [
       "[<matplotlib.lines.Line2D at 0x2578ea46340>]"
      ]
     },
     "execution_count": 11,
     "metadata": {},
     "output_type": "execute_result"
    },
    {
     "data": {
      "image/png": "[encoded data removed]",
      "text/plain": [
       "<Figure size 432x288 with 1 Axes>"
      ]
     },
     "metadata": {
      "needs_background": "light"
     },
     "output_type": "display_data"
    }
   ],
   "source": [
    "plt.plot(N1,'*')\n",
    "plt.plot(N0,'*')"
   ]
  },
  {
   "cell_type": "code",
   "execution_count": null,
   "id": "dd9540f7",
   "metadata": {},
   "outputs": [],
   "source": []
  }
 ],
 "metadata": {
  "kernelspec": {
   "display_name": "Python 3",
   "language": "python",
   "name": "python3"
  },
  "language_info": {
   "codemirror_mode": {
    "name": "ipython",
    "version": 3
   },
   "file_extension": ".py",
   "mimetype": "text/x-python",
   "name": "python",
   "nbconvert_exporter": "python",
   "pygments_lexer": "ipython3",
   "version": "3.8.8"
  }
 },
 "nbformat": 4,
 "nbformat_minor": 5
}
