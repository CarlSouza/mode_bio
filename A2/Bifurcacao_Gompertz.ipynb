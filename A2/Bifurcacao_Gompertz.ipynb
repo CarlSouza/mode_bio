{
 "cells": [
  {
   "cell_type": "code",
   "execution_count": 2,
   "id": "84da91f5",
   "metadata": {},
   "outputs": [],
   "source": [
    "#Leitura das bibliotecas\n",
    "import numpy as np\n",
    "import matplotlib.pylab as plt\n",
    "\n",
    "r1 = 10\n",
    "r2 = 15\n",
    "r3 = 20\n",
    "k = 1000\n",
    "N0 = np.zeros(20)\n",
    "N1 = np.zeros(20)\n",
    "N2 = np.zeros(20)\n",
    "N3 = np.zeros(20)\n",
    "for var in range(20):\n",
    "    x = -var/r1\n",
    "    N1[var] = k*np.exp(x)\n",
    "    x = -var/r2\n",
    "    N2[var] = k*np.exp(x)\n",
    "    x = -var/r3\n",
    "    N3[var] = k*np.exp(x)"
   ]
  },
  {
   "cell_type": "code",
   "execution_count": 6,
   "id": "ae535623",
   "metadata": {},
   "outputs": [
    {
     "data": {
      "text/plain": [
       "<matplotlib.legend.Legend at 0x1b86e483d00>"
      ]
     },
     "execution_count": 6,
     "metadata": {},
     "output_type": "execute_result"
    },
    {
     "data": {
      "image/png": "[encoded data removed]",
      "text/plain": [
       "<Figure size 432x288 with 1 Axes>"
      ]
     },
     "metadata": {
      "needs_background": "light"
     },
     "output_type": "display_data"
    }
   ],
   "source": [
    "plt.plot(N1,'*', label ='r= 10')\n",
    "plt.plot(N2,'*', label ='r= 15')\n",
    "plt.plot(N3,'*', label ='r= 20')\n",
    "plt.plot(N0,'*')\n",
    "plt.legend()"
   ]
  },
  {
   "cell_type": "code",
   "execution_count": null,
   "id": "dd9540f7",
   "metadata": {},
   "outputs": [],
   "source": []
  }
 ],
 "metadata": {
  "kernelspec": {
   "display_name": "Python 3",
   "language": "python",
   "name": "python3"
  },
  "language_info": {
   "codemirror_mode": {
    "name": "ipython",
    "version": 3
   },
   "file_extension": ".py",
   "mimetype": "text/x-python",
   "name": "python",
   "nbconvert_exporter": "python",
   "pygments_lexer": "ipython3",
   "version": "3.8.8"
  }
 },
 "nbformat": 4,
 "nbformat_minor": 5
}
